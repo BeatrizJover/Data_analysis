{
 "cells": [
  {
   "cell_type": "code",
   "execution_count": 98,
   "metadata": {},
   "outputs": [
    {
     "data": {
      "text/html": [
       "<div>\n",
       "<style scoped>\n",
       "    .dataframe tbody tr th:only-of-type {\n",
       "        vertical-align: middle;\n",
       "    }\n",
       "\n",
       "    .dataframe tbody tr th {\n",
       "        vertical-align: top;\n",
       "    }\n",
       "\n",
       "    .dataframe thead th {\n",
       "        text-align: right;\n",
       "    }\n",
       "</style>\n",
       "<table border=\"1\" class=\"dataframe\">\n",
       "  <thead>\n",
       "    <tr style=\"text-align: right;\">\n",
       "      <th></th>\n",
       "      <th>Locality</th>\n",
       "      <th>Zip Code</th>\n",
       "      <th>Type of Property</th>\n",
       "      <th>Subtype of Property</th>\n",
       "      <th>Price</th>\n",
       "      <th>Type of Sale</th>\n",
       "      <th>Number of Rooms</th>\n",
       "      <th>Livable Space (m2)</th>\n",
       "      <th>Fully Equipped Kitchen</th>\n",
       "      <th>Furnished</th>\n",
       "      <th>...</th>\n",
       "      <th>Garden</th>\n",
       "      <th>Garden Area (m2)</th>\n",
       "      <th>Swimming Pool</th>\n",
       "      <th>Surface of the Land (m2)</th>\n",
       "      <th>Number of Facades</th>\n",
       "      <th>Construction Year</th>\n",
       "      <th>PEB</th>\n",
       "      <th>Primary Energy Consumption (kWh/m2)</th>\n",
       "      <th>State of the Building</th>\n",
       "      <th>Url</th>\n",
       "    </tr>\n",
       "  </thead>\n",
       "  <tbody>\n",
       "    <tr>\n",
       "      <th>0</th>\n",
       "      <td>Gent</td>\n",
       "      <td>9000</td>\n",
       "      <td>Apartment</td>\n",
       "      <td>apartment</td>\n",
       "      <td>229000.0</td>\n",
       "      <td>for-sale</td>\n",
       "      <td>1.0</td>\n",
       "      <td>44</td>\n",
       "      <td>0</td>\n",
       "      <td>0</td>\n",
       "      <td>...</td>\n",
       "      <td>0</td>\n",
       "      <td>NaN</td>\n",
       "      <td>0</td>\n",
       "      <td>NaN</td>\n",
       "      <td>2.0</td>\n",
       "      <td>1918.0</td>\n",
       "      <td>B</td>\n",
       "      <td>190.0</td>\n",
       "      <td>Good</td>\n",
       "      <td>https://www.immoweb.be/en/classified/apartment...</td>\n",
       "    </tr>\n",
       "    <tr>\n",
       "      <th>1</th>\n",
       "      <td>Uccle</td>\n",
       "      <td>1180</td>\n",
       "      <td>House</td>\n",
       "      <td>villa</td>\n",
       "      <td>1250000.0</td>\n",
       "      <td>for-sale</td>\n",
       "      <td>4.0</td>\n",
       "      <td>584</td>\n",
       "      <td>1</td>\n",
       "      <td>0</td>\n",
       "      <td>...</td>\n",
       "      <td>1</td>\n",
       "      <td>1085.0</td>\n",
       "      <td>0</td>\n",
       "      <td>1225.0</td>\n",
       "      <td>4.0</td>\n",
       "      <td>1932.0</td>\n",
       "      <td>G</td>\n",
       "      <td>402.0</td>\n",
       "      <td>To renovate</td>\n",
       "      <td>https://www.immoweb.be/en/classified/villa/for...</td>\n",
       "    </tr>\n",
       "    <tr>\n",
       "      <th>2</th>\n",
       "      <td>Etterbeek</td>\n",
       "      <td>1040</td>\n",
       "      <td>House</td>\n",
       "      <td>house</td>\n",
       "      <td>875000.0</td>\n",
       "      <td>for-sale</td>\n",
       "      <td>4.0</td>\n",
       "      <td>233</td>\n",
       "      <td>1</td>\n",
       "      <td>0</td>\n",
       "      <td>...</td>\n",
       "      <td>0</td>\n",
       "      <td>NaN</td>\n",
       "      <td>0</td>\n",
       "      <td>112.0</td>\n",
       "      <td>3.0</td>\n",
       "      <td>1929.0</td>\n",
       "      <td>G</td>\n",
       "      <td>563.0</td>\n",
       "      <td>To be done up</td>\n",
       "      <td>https://www.immoweb.be/en/classified/house/for...</td>\n",
       "    </tr>\n",
       "    <tr>\n",
       "      <th>3</th>\n",
       "      <td>Elversele</td>\n",
       "      <td>9140</td>\n",
       "      <td>House</td>\n",
       "      <td>villa</td>\n",
       "      <td>825000.0</td>\n",
       "      <td>for-sale</td>\n",
       "      <td>4.0</td>\n",
       "      <td>281</td>\n",
       "      <td>0</td>\n",
       "      <td>0</td>\n",
       "      <td>...</td>\n",
       "      <td>0</td>\n",
       "      <td>NaN</td>\n",
       "      <td>1</td>\n",
       "      <td>1450.0</td>\n",
       "      <td>4.0</td>\n",
       "      <td>2001.0</td>\n",
       "      <td>B</td>\n",
       "      <td>181.0</td>\n",
       "      <td>As new</td>\n",
       "      <td>https://www.immoweb.be/en/classified/villa/for...</td>\n",
       "    </tr>\n",
       "    <tr>\n",
       "      <th>4</th>\n",
       "      <td>Kalmthout</td>\n",
       "      <td>2920</td>\n",
       "      <td>House</td>\n",
       "      <td>manor-house</td>\n",
       "      <td>4750000.0</td>\n",
       "      <td>for-sale</td>\n",
       "      <td>3.0</td>\n",
       "      <td>326</td>\n",
       "      <td>0</td>\n",
       "      <td>0</td>\n",
       "      <td>...</td>\n",
       "      <td>0</td>\n",
       "      <td>NaN</td>\n",
       "      <td>0</td>\n",
       "      <td>34799.0</td>\n",
       "      <td>4.0</td>\n",
       "      <td>2015.0</td>\n",
       "      <td>A</td>\n",
       "      <td>95.0</td>\n",
       "      <td>As new</td>\n",
       "      <td>https://www.immoweb.be/en/classified/manor-hou...</td>\n",
       "    </tr>\n",
       "  </tbody>\n",
       "</table>\n",
       "<p>5 rows × 23 columns</p>\n",
       "</div>"
      ],
      "text/plain": [
       "    Locality  Zip Code Type of Property Subtype of Property      Price  \\\n",
       "0       Gent      9000        Apartment           apartment   229000.0   \n",
       "1      Uccle      1180            House               villa  1250000.0   \n",
       "2  Etterbeek      1040            House               house   875000.0   \n",
       "3  Elversele      9140            House               villa   825000.0   \n",
       "4  Kalmthout      2920            House         manor-house  4750000.0   \n",
       "\n",
       "  Type of Sale  Number of Rooms  Livable Space (m2)  Fully Equipped Kitchen  \\\n",
       "0     for-sale              1.0                  44                       0   \n",
       "1     for-sale              4.0                 584                       1   \n",
       "2     for-sale              4.0                 233                       1   \n",
       "3     for-sale              4.0                 281                       0   \n",
       "4     for-sale              3.0                 326                       0   \n",
       "\n",
       "   Furnished  ...  Garden  Garden Area (m2)  Swimming Pool  \\\n",
       "0          0  ...       0               NaN              0   \n",
       "1          0  ...       1            1085.0              0   \n",
       "2          0  ...       0               NaN              0   \n",
       "3          0  ...       0               NaN              1   \n",
       "4          0  ...       0               NaN              0   \n",
       "\n",
       "   Surface of the Land (m2)  Number of Facades  Construction Year  PEB  \\\n",
       "0                       NaN                2.0             1918.0    B   \n",
       "1                    1225.0                4.0             1932.0    G   \n",
       "2                     112.0                3.0             1929.0    G   \n",
       "3                    1450.0                4.0             2001.0    B   \n",
       "4                   34799.0                4.0             2015.0    A   \n",
       "\n",
       "   Primary Energy Consumption (kWh/m2)  State of the Building  \\\n",
       "0                                190.0                   Good   \n",
       "1                                402.0            To renovate   \n",
       "2                                563.0          To be done up   \n",
       "3                                181.0                 As new   \n",
       "4                                 95.0                 As new   \n",
       "\n",
       "                                                 Url  \n",
       "0  https://www.immoweb.be/en/classified/apartment...  \n",
       "1  https://www.immoweb.be/en/classified/villa/for...  \n",
       "2  https://www.immoweb.be/en/classified/house/for...  \n",
       "3  https://www.immoweb.be/en/classified/villa/for...  \n",
       "4  https://www.immoweb.be/en/classified/manor-hou...  \n",
       "\n",
       "[5 rows x 23 columns]"
      ]
     },
     "execution_count": 98,
     "metadata": {},
     "output_type": "execute_result"
    }
   ],
   "source": [
    "import pandas as pd\n",
    "df = pd.read_csv('csv-data\\\\scraping_results.csv')\n",
    "df.head()"
   ]
  },
  {
   "cell_type": "code",
   "execution_count": 99,
   "metadata": {},
   "outputs": [
    {
     "data": {
      "text/plain": [
       "(10875, 23)"
      ]
     },
     "execution_count": 99,
     "metadata": {},
     "output_type": "execute_result"
    }
   ],
   "source": [
    "df.shape"
   ]
  },
  {
   "cell_type": "markdown",
   "metadata": {},
   "source": [
    "**How many rows and columns?**\n",
    "\n",
    "\n",
    "Initially we had a dataset with 23 columns and 10875 inputs."
   ]
  },
  {
   "cell_type": "code",
   "execution_count": 100,
   "metadata": {},
   "outputs": [
    {
     "name": "stdout",
     "output_type": "stream",
     "text": [
      "<class 'pandas.core.frame.DataFrame'>\n",
      "RangeIndex: 10875 entries, 0 to 10874\n",
      "Data columns (total 23 columns):\n",
      " #   Column                               Non-Null Count  Dtype  \n",
      "---  ------                               --------------  -----  \n",
      " 0   Locality                             10875 non-null  object \n",
      " 1   Zip Code                             10875 non-null  int64  \n",
      " 2   Type of Property                     10875 non-null  object \n",
      " 3   Subtype of Property                  10875 non-null  object \n",
      " 4   Price                                10851 non-null  float64\n",
      " 5   Type of Sale                         10875 non-null  object \n",
      " 6   Number of Rooms                      10744 non-null  float64\n",
      " 7   Livable Space (m2)                   10875 non-null  int64  \n",
      " 8   Fully Equipped Kitchen               10875 non-null  int64  \n",
      " 9   Furnished                            10875 non-null  int64  \n",
      " 10  Any Fireplace ?                      10875 non-null  int64  \n",
      " 11  Terrace                              10875 non-null  int64  \n",
      " 12  Terrace Area (m2)                    4492 non-null   float64\n",
      " 13  Garden                               10875 non-null  int64  \n",
      " 14  Garden Area (m2)                     3308 non-null   float64\n",
      " 15  Swimming Pool                        10875 non-null  int64  \n",
      " 16  Surface of the Land (m2)             7137 non-null   float64\n",
      " 17  Number of Facades                    8324 non-null   float64\n",
      " 18  Construction Year                    8507 non-null   float64\n",
      " 19  PEB                                  10220 non-null  object \n",
      " 20  Primary Energy Consumption (kWh/m2)  9678 non-null   float64\n",
      " 21  State of the Building                9540 non-null   object \n",
      " 22  Url                                  10875 non-null  object \n",
      "dtypes: float64(8), int64(8), object(7)\n",
      "memory usage: 1.9+ MB\n",
      "None\n"
     ]
    }
   ],
   "source": [
    "print(df.info())"
   ]
  },
  {
   "cell_type": "markdown",
   "metadata": {},
   "source": [
    "We had some inputs that were missing price (24 cases), so we removed cases with 0 price as they would not be useful in further modeling."
   ]
  },
  {
   "cell_type": "code",
   "execution_count": 101,
   "metadata": {},
   "outputs": [
    {
     "name": "stdout",
     "output_type": "stream",
     "text": [
      "<class 'pandas.core.frame.DataFrame'>\n",
      "RangeIndex: 10851 entries, 0 to 10850\n",
      "Data columns (total 23 columns):\n",
      " #   Column                               Non-Null Count  Dtype  \n",
      "---  ------                               --------------  -----  \n",
      " 0   Locality                             10851 non-null  object \n",
      " 1   Zip Code                             10851 non-null  int64  \n",
      " 2   Type of Property                     10851 non-null  object \n",
      " 3   Subtype of Property                  10851 non-null  object \n",
      " 4   Price                                10851 non-null  float64\n",
      " 5   Type of Sale                         10851 non-null  object \n",
      " 6   Number of Rooms                      10720 non-null  float64\n",
      " 7   Livable Space (m2)                   10851 non-null  int64  \n",
      " 8   Fully Equipped Kitchen               10851 non-null  int64  \n",
      " 9   Furnished                            10851 non-null  int64  \n",
      " 10  Any Fireplace ?                      10851 non-null  int64  \n",
      " 11  Terrace                              10851 non-null  int64  \n",
      " 12  Terrace Area (m2)                    4486 non-null   float64\n",
      " 13  Garden                               10851 non-null  int64  \n",
      " 14  Garden Area (m2)                     3301 non-null   float64\n",
      " 15  Swimming Pool                        10851 non-null  int64  \n",
      " 16  Surface of the Land (m2)             7121 non-null   float64\n",
      " 17  Number of Facades                    8309 non-null   float64\n",
      " 18  Construction Year                    8487 non-null   float64\n",
      " 19  PEB                                  10197 non-null  object \n",
      " 20  Primary Energy Consumption (kWh/m2)  9657 non-null   float64\n",
      " 21  State of the Building                9519 non-null   object \n",
      " 22  Url                                  10851 non-null  object \n",
      "dtypes: float64(8), int64(8), object(7)\n",
      "memory usage: 1.9+ MB\n"
     ]
    }
   ],
   "source": [
    "df.dropna(subset=['Price'], inplace=True, ignore_index=True)\n",
    "df.info()"
   ]
  },
  {
   "cell_type": "markdown",
   "metadata": {},
   "source": [
    "We had some inputs that were missing number of rooms (131 cases), so we fill these rows with 0."
   ]
  },
  {
   "cell_type": "code",
   "execution_count": 102,
   "metadata": {},
   "outputs": [
    {
     "name": "stdout",
     "output_type": "stream",
     "text": [
      "Percentage of missing number of rooms: 1.21%\n"
     ]
    }
   ],
   "source": [
    "percentage_of_missing_room_number = round(df['Number of Rooms'].isna().sum() / len(df) * 100, 2)\n",
    "print(f\"Percentage of missing number of rooms: {percentage_of_missing_room_number}%\")"
   ]
  },
  {
   "cell_type": "code",
   "execution_count": 103,
   "metadata": {},
   "outputs": [
    {
     "name": "stdout",
     "output_type": "stream",
     "text": [
      "<class 'pandas.core.frame.DataFrame'>\n",
      "RangeIndex: 10851 entries, 0 to 10850\n",
      "Data columns (total 23 columns):\n",
      " #   Column                               Non-Null Count  Dtype  \n",
      "---  ------                               --------------  -----  \n",
      " 0   Locality                             10851 non-null  object \n",
      " 1   Zip Code                             10851 non-null  int64  \n",
      " 2   Type of Property                     10851 non-null  object \n",
      " 3   Subtype of Property                  10851 non-null  object \n",
      " 4   Price                                10851 non-null  float64\n",
      " 5   Type of Sale                         10851 non-null  object \n",
      " 6   Number of Rooms                      10851 non-null  float64\n",
      " 7   Livable Space (m2)                   10851 non-null  int64  \n",
      " 8   Fully Equipped Kitchen               10851 non-null  int64  \n",
      " 9   Furnished                            10851 non-null  int64  \n",
      " 10  Any Fireplace ?                      10851 non-null  int64  \n",
      " 11  Terrace                              10851 non-null  int64  \n",
      " 12  Terrace Area (m2)                    4486 non-null   float64\n",
      " 13  Garden                               10851 non-null  int64  \n",
      " 14  Garden Area (m2)                     3301 non-null   float64\n",
      " 15  Swimming Pool                        10851 non-null  int64  \n",
      " 16  Surface of the Land (m2)             7121 non-null   float64\n",
      " 17  Number of Facades                    8309 non-null   float64\n",
      " 18  Construction Year                    8487 non-null   float64\n",
      " 19  PEB                                  10197 non-null  object \n",
      " 20  Primary Energy Consumption (kWh/m2)  9657 non-null   float64\n",
      " 21  State of the Building                9519 non-null   object \n",
      " 22  Url                                  10851 non-null  object \n",
      "dtypes: float64(8), int64(8), object(7)\n",
      "memory usage: 1.9+ MB\n"
     ]
    }
   ],
   "source": [
    "\n",
    "df['Number of Rooms'] = df['Number of Rooms'].fillna(0)\n",
    "df.info()"
   ]
  },
  {
   "cell_type": "markdown",
   "metadata": {},
   "source": [
    "We had many missing values ​​for columns like Garden Area, Terrace Area and Surface of the land. So we filled these missing values ​​with 0 as the fact that these areas do not exist."
   ]
  },
  {
   "cell_type": "code",
   "execution_count": 104,
   "metadata": {},
   "outputs": [
    {
     "name": "stdout",
     "output_type": "stream",
     "text": [
      "Percentage of missing garden area values: 69.58%\n",
      "Percentage of missing terrace area values: 58.66%\n",
      "Percentage of missing values for surface of the land: 34.37%\n"
     ]
    }
   ],
   "source": [
    "percentage_of_missing_garden_area = round(df['Garden Area (m2)'].isna().sum() / len(df) * 100, 2)\n",
    "print(f\"Percentage of missing garden area values: {percentage_of_missing_garden_area}%\")\n",
    "#print(f\"Percentage of missing garden area values: {percentage_of_missing_garden_area:.2f}%\")\n",
    "\n",
    "percentage_of_missing_terrace_area = round(df['Terrace Area (m2)'].isna().sum() / len(df) * 100, 2)\n",
    "print(f\"Percentage of missing terrace area values: {percentage_of_missing_terrace_area}%\")\n",
    "\n",
    "percentage_of_missing_land_area = round(df['Surface of the Land (m2)'].isna().sum() / len(df) * 100, 2)\n",
    "print(f\"Percentage of missing values for surface of the land: {percentage_of_missing_land_area}%\")"
   ]
  },
  {
   "cell_type": "code",
   "execution_count": 105,
   "metadata": {},
   "outputs": [],
   "source": [
    "# Replace missing values in the 'Terrace Area (m2)' columns with 0\n",
    "df['Terrace Area (m2)'] = df['Terrace Area (m2)'].fillna(0)\n",
    "\n",
    "# Replace missing values in the 'Garden Area (m2)' columns with 0\n",
    "df['Garden Area (m2)'] = df['Garden Area (m2)'].fillna(0)\n",
    "\n",
    "# Replace missing values in the 'Surface of the Land (m2)' columns with 0\n",
    "df['Surface of the Land (m2)'] = df['Surface of the Land (m2)'].fillna(0)"
   ]
  },
  {
   "cell_type": "code",
   "execution_count": 106,
   "metadata": {},
   "outputs": [
    {
     "name": "stdout",
     "output_type": "stream",
     "text": [
      "<class 'pandas.core.frame.DataFrame'>\n",
      "RangeIndex: 10851 entries, 0 to 10850\n",
      "Data columns (total 23 columns):\n",
      " #   Column                               Non-Null Count  Dtype  \n",
      "---  ------                               --------------  -----  \n",
      " 0   Locality                             10851 non-null  object \n",
      " 1   Zip Code                             10851 non-null  int64  \n",
      " 2   Type of Property                     10851 non-null  object \n",
      " 3   Subtype of Property                  10851 non-null  object \n",
      " 4   Price                                10851 non-null  float64\n",
      " 5   Type of Sale                         10851 non-null  object \n",
      " 6   Number of Rooms                      10851 non-null  float64\n",
      " 7   Livable Space (m2)                   10851 non-null  int64  \n",
      " 8   Fully Equipped Kitchen               10851 non-null  int64  \n",
      " 9   Furnished                            10851 non-null  int64  \n",
      " 10  Any Fireplace ?                      10851 non-null  int64  \n",
      " 11  Terrace                              10851 non-null  int64  \n",
      " 12  Terrace Area (m2)                    10851 non-null  float64\n",
      " 13  Garden                               10851 non-null  int64  \n",
      " 14  Garden Area (m2)                     10851 non-null  float64\n",
      " 15  Swimming Pool                        10851 non-null  int64  \n",
      " 16  Surface of the Land (m2)             10851 non-null  float64\n",
      " 17  Number of Facades                    8309 non-null   float64\n",
      " 18  Construction Year                    8487 non-null   float64\n",
      " 19  PEB                                  10197 non-null  object \n",
      " 20  Primary Energy Consumption (kWh/m2)  9657 non-null   float64\n",
      " 21  State of the Building                9519 non-null   object \n",
      " 22  Url                                  10851 non-null  object \n",
      "dtypes: float64(8), int64(8), object(7)\n",
      "memory usage: 1.9+ MB\n"
     ]
    }
   ],
   "source": [
    "df.info()"
   ]
  },
  {
   "cell_type": "markdown",
   "metadata": {},
   "source": [
    "We had 23.16% missing values ​​for the Number of Facades column. It was decided to modify this data according to the following rule:\n",
    "1. Replace missing values in the 'Number of Facades' columns with 0\n",
    "2. Replace 'Number of facades' with 1 where 'Type of Property' is apartment and 'Number of facades' is 0\n",
    "3. Replace 'Number of Facades' with 2 where 'Subtype of Property' is 'duplex' or 'town-house' and 'Number of Facades' is 0\n",
    "4. Replace 'Number of Facades' with 4 where 'Type of Property' is House and 'Number of Facades' is 0"
   ]
  },
  {
   "cell_type": "code",
   "execution_count": 107,
   "metadata": {},
   "outputs": [
    {
     "name": "stdout",
     "output_type": "stream",
     "text": [
      "Percentage of missing values for number of facades: 23.43%\n"
     ]
    }
   ],
   "source": [
    "percentage_of_missing_number_facades = round(df['Number of Facades'].isna().sum() / len(df) * 100, 2)\n",
    "print(f\"Percentage of missing values for number of facades: {percentage_of_missing_number_facades}%\")"
   ]
  },
  {
   "cell_type": "code",
   "execution_count": 108,
   "metadata": {},
   "outputs": [],
   "source": [
    "# Replace missing values in the 'Number of Facades' columns with 0\n",
    "df['Number of Facades'] = df['Number of Facades'].fillna(0)\n",
    "\n",
    "# Replace 'Number of facades' with 1 where 'Type of Property' is 0 (apartment) and 'Number of facades' is 0\n",
    "df.loc[(df['Type of Property'] == 0) & (df['Number of Facades'] == 'Apartment'), 'Number of Facades'] = 1\n",
    "\n",
    "# Replace 'Number of Facades' with 2 where 'Subtype of Property' is 'duplex' or 'town-house' and 'Number of Facades' is 0\n",
    "df.loc[(df['Subtype of Property'].isin(['duplex', 'town-house'])) & (df['Number of Facades'] == 0), 'Number of Facades'] = 2\n",
    "\n",
    "# Replace remaining 'Number of Facades' 0 values for remaining houses with 4\n",
    "# Replace 'Number of Facades' with 4 where 'Type of Property' is 1 (House) and 'Number of Facades' is 0\n",
    "df.loc[(df['Type of Property'] == 1) & (df['Number of Facades'] == 'House'), 'Number of Facades'] = 4"
   ]
  },
  {
   "cell_type": "code",
   "execution_count": 109,
   "metadata": {},
   "outputs": [
    {
     "name": "stdout",
     "output_type": "stream",
     "text": [
      "<class 'pandas.core.frame.DataFrame'>\n",
      "RangeIndex: 10851 entries, 0 to 10850\n",
      "Data columns (total 23 columns):\n",
      " #   Column                               Non-Null Count  Dtype  \n",
      "---  ------                               --------------  -----  \n",
      " 0   Locality                             10851 non-null  object \n",
      " 1   Zip Code                             10851 non-null  int64  \n",
      " 2   Type of Property                     10851 non-null  object \n",
      " 3   Subtype of Property                  10851 non-null  object \n",
      " 4   Price                                10851 non-null  float64\n",
      " 5   Type of Sale                         10851 non-null  object \n",
      " 6   Number of Rooms                      10851 non-null  float64\n",
      " 7   Livable Space (m2)                   10851 non-null  int64  \n",
      " 8   Fully Equipped Kitchen               10851 non-null  int64  \n",
      " 9   Furnished                            10851 non-null  int64  \n",
      " 10  Any Fireplace ?                      10851 non-null  int64  \n",
      " 11  Terrace                              10851 non-null  int64  \n",
      " 12  Terrace Area (m2)                    10851 non-null  float64\n",
      " 13  Garden                               10851 non-null  int64  \n",
      " 14  Garden Area (m2)                     10851 non-null  float64\n",
      " 15  Swimming Pool                        10851 non-null  int64  \n",
      " 16  Surface of the Land (m2)             10851 non-null  float64\n",
      " 17  Number of Facades                    10851 non-null  float64\n",
      " 18  Construction Year                    8487 non-null   float64\n",
      " 19  PEB                                  10197 non-null  object \n",
      " 20  Primary Energy Consumption (kWh/m2)  9657 non-null   float64\n",
      " 21  State of the Building                9519 non-null   object \n",
      " 22  Url                                  10851 non-null  object \n",
      "dtypes: float64(8), int64(8), object(7)\n",
      "memory usage: 1.9+ MB\n"
     ]
    }
   ],
   "source": [
    "df.info()"
   ]
  },
  {
   "cell_type": "markdown",
   "metadata": {},
   "source": [
    "We had 5.74% and 12.13% missing values ​​for the PEB and State of the Building columns respectively, so we replaced these cases by indicating that the information was not specified."
   ]
  },
  {
   "cell_type": "code",
   "execution_count": 110,
   "metadata": {},
   "outputs": [
    {
     "name": "stdout",
     "output_type": "stream",
     "text": [
      "Percentage of missing PEB values: 6.03%\n",
      "Percentage of missing values for state of the building: 12.28%\n"
     ]
    }
   ],
   "source": [
    "percentage_of_missing_peb = round(df['PEB'].isna().sum() / len(df) * 100, 2)\n",
    "print(f\"Percentage of missing PEB values: {percentage_of_missing_peb}%\")\n",
    "\n",
    "percentage_of_missing_building_state = round(df['State of the Building'].isna().sum() / len(df) * 100, 2)\n",
    "print(f\"Percentage of missing values for state of the building: {percentage_of_missing_building_state}%\")"
   ]
  },
  {
   "cell_type": "code",
   "execution_count": 111,
   "metadata": {},
   "outputs": [],
   "source": [
    "df['PEB'] = df['PEB'].fillna('Not specified')\n",
    "df['State of the Building'] = df['State of the Building'].fillna('Not specified')"
   ]
  },
  {
   "cell_type": "code",
   "execution_count": 112,
   "metadata": {},
   "outputs": [
    {
     "name": "stdout",
     "output_type": "stream",
     "text": [
      "<class 'pandas.core.frame.DataFrame'>\n",
      "RangeIndex: 10851 entries, 0 to 10850\n",
      "Data columns (total 23 columns):\n",
      " #   Column                               Non-Null Count  Dtype  \n",
      "---  ------                               --------------  -----  \n",
      " 0   Locality                             10851 non-null  object \n",
      " 1   Zip Code                             10851 non-null  int64  \n",
      " 2   Type of Property                     10851 non-null  object \n",
      " 3   Subtype of Property                  10851 non-null  object \n",
      " 4   Price                                10851 non-null  float64\n",
      " 5   Type of Sale                         10851 non-null  object \n",
      " 6   Number of Rooms                      10851 non-null  float64\n",
      " 7   Livable Space (m2)                   10851 non-null  int64  \n",
      " 8   Fully Equipped Kitchen               10851 non-null  int64  \n",
      " 9   Furnished                            10851 non-null  int64  \n",
      " 10  Any Fireplace ?                      10851 non-null  int64  \n",
      " 11  Terrace                              10851 non-null  int64  \n",
      " 12  Terrace Area (m2)                    10851 non-null  float64\n",
      " 13  Garden                               10851 non-null  int64  \n",
      " 14  Garden Area (m2)                     10851 non-null  float64\n",
      " 15  Swimming Pool                        10851 non-null  int64  \n",
      " 16  Surface of the Land (m2)             10851 non-null  float64\n",
      " 17  Number of Facades                    10851 non-null  float64\n",
      " 18  Construction Year                    8487 non-null   float64\n",
      " 19  PEB                                  10851 non-null  object \n",
      " 20  Primary Energy Consumption (kWh/m2)  9657 non-null   float64\n",
      " 21  State of the Building                10851 non-null  object \n",
      " 22  Url                                  10851 non-null  object \n",
      "dtypes: float64(8), int64(8), object(7)\n",
      "memory usage: 1.9+ MB\n"
     ]
    }
   ],
   "source": [
    "df.info()"
   ]
  },
  {
   "cell_type": "markdown",
   "metadata": {},
   "source": [
    "We had 10.62% missing values for the Energy consumption column. It was decided to replace them with the mean value of the entire range."
   ]
  },
  {
   "cell_type": "code",
   "execution_count": 113,
   "metadata": {},
   "outputs": [
    {
     "name": "stdout",
     "output_type": "stream",
     "text": [
      "Percentage of missing values for energy consumption: 11.0%\n"
     ]
    }
   ],
   "source": [
    "percentage_of_missing_energy_consumption = round(df['Primary Energy Consumption (kWh/m2)'].isna().sum() / len(df) * 100, 2)\n",
    "print(f\"Percentage of missing values for energy consumption: {percentage_of_missing_energy_consumption}%\")"
   ]
  },
  {
   "cell_type": "code",
   "execution_count": 114,
   "metadata": {},
   "outputs": [],
   "source": [
    "# Replace missing values in the 'Primary Energy Consumption (kWh/m2)' columns with mean value\n",
    "df['Primary Energy Consumption (kWh/m2)'] = df['Primary Energy Consumption (kWh/m2)'].fillna(round(df['Primary Energy Consumption (kWh/m2)'].mean(),0))"
   ]
  },
  {
   "cell_type": "code",
   "execution_count": 115,
   "metadata": {},
   "outputs": [
    {
     "name": "stdout",
     "output_type": "stream",
     "text": [
      "<class 'pandas.core.frame.DataFrame'>\n",
      "RangeIndex: 10851 entries, 0 to 10850\n",
      "Data columns (total 23 columns):\n",
      " #   Column                               Non-Null Count  Dtype  \n",
      "---  ------                               --------------  -----  \n",
      " 0   Locality                             10851 non-null  object \n",
      " 1   Zip Code                             10851 non-null  int64  \n",
      " 2   Type of Property                     10851 non-null  object \n",
      " 3   Subtype of Property                  10851 non-null  object \n",
      " 4   Price                                10851 non-null  float64\n",
      " 5   Type of Sale                         10851 non-null  object \n",
      " 6   Number of Rooms                      10851 non-null  float64\n",
      " 7   Livable Space (m2)                   10851 non-null  int64  \n",
      " 8   Fully Equipped Kitchen               10851 non-null  int64  \n",
      " 9   Furnished                            10851 non-null  int64  \n",
      " 10  Any Fireplace ?                      10851 non-null  int64  \n",
      " 11  Terrace                              10851 non-null  int64  \n",
      " 12  Terrace Area (m2)                    10851 non-null  float64\n",
      " 13  Garden                               10851 non-null  int64  \n",
      " 14  Garden Area (m2)                     10851 non-null  float64\n",
      " 15  Swimming Pool                        10851 non-null  int64  \n",
      " 16  Surface of the Land (m2)             10851 non-null  float64\n",
      " 17  Number of Facades                    10851 non-null  float64\n",
      " 18  Construction Year                    8487 non-null   float64\n",
      " 19  PEB                                  10851 non-null  object \n",
      " 20  Primary Energy Consumption (kWh/m2)  10851 non-null  float64\n",
      " 21  State of the Building                10851 non-null  object \n",
      " 22  Url                                  10851 non-null  object \n",
      "dtypes: float64(8), int64(8), object(7)\n",
      "memory usage: 1.9+ MB\n"
     ]
    }
   ],
   "source": [
    "df.info()"
   ]
  },
  {
   "cell_type": "markdown",
   "metadata": {},
   "source": [
    "The Construction Year column was removed because it contained a lot of missing data that would be difficult to restore.\n",
    "\n",
    "\n",
    "The \"Sale Type\" column had only one value, \"for sale\". Therefore, it was not of interest for the analysis and was also removed."
   ]
  },
  {
   "cell_type": "code",
   "execution_count": 116,
   "metadata": {},
   "outputs": [],
   "source": [
    "df = df.drop(columns=['Construction Year'])\n",
    "df = df.drop(columns=['Type of Sale'])"
   ]
  },
  {
   "cell_type": "code",
   "execution_count": 117,
   "metadata": {},
   "outputs": [],
   "source": [
    "# Find the index of the current 'Any Fireplace ?' column\n",
    "fireplaces_index = df.columns.get_loc('Any Fireplace ?')\n",
    "\n",
    "# Create the new 'Open Fire' column based on 'Any Fireplace ?'\n",
    "df['Open Fire'] = df['Any Fireplace ?'].apply(lambda x: 0 if x == 0 else 1)\n",
    "\n",
    "# Insert the new 'Open Fire' column at the same index\n",
    "df.insert(fireplaces_index, 'Open Fire', df.pop('Open Fire'))\n",
    "df = df.drop(columns=['Any Fireplace ?'])"
   ]
  },
  {
   "cell_type": "code",
   "execution_count": 118,
   "metadata": {},
   "outputs": [
    {
     "data": {
      "text/plain": [
       "Index(['Locality', 'Zip Code', 'Type of Property', 'Subtype of Property',\n",
       "       'Price', 'Number of Rooms', 'Livable Space (m2)',\n",
       "       'Fully Equipped Kitchen', 'Furnished', 'Open Fire', 'Terrace',\n",
       "       'Terrace Area (m2)', 'Garden', 'Garden Area (m2)', 'Swimming Pool',\n",
       "       'Surface of the Land (m2)', 'Number of Facades', 'PEB',\n",
       "       'Primary Energy Consumption (kWh/m2)', 'State of the Building', 'Url'],\n",
       "      dtype='object')"
      ]
     },
     "execution_count": 118,
     "metadata": {},
     "output_type": "execute_result"
    }
   ],
   "source": [
    "df.columns"
   ]
  },
  {
   "cell_type": "markdown",
   "metadata": {},
   "source": [
    "For the Fully Equipped Kitchen column it was mentioned a value of 1 for Hyper-Equipped or Installed, and 0 for the rest."
   ]
  },
  {
   "cell_type": "markdown",
   "metadata": {},
   "source": [
    "It was noticed that some properties were presented on different web pages, so we removed these duplicates by comparing the values ​​for all columns except the URL column."
   ]
  },
  {
   "cell_type": "code",
   "execution_count": 119,
   "metadata": {},
   "outputs": [
    {
     "data": {
      "text/plain": [
       "False    10701\n",
       "True       150\n",
       "Name: count, dtype: int64"
      ]
     },
     "execution_count": 119,
     "metadata": {},
     "output_type": "execute_result"
    }
   ],
   "source": [
    "#Count duplicates for the same properties that have different URL.\n",
    "df.duplicated(subset=df.columns.difference(['Url'])).value_counts()"
   ]
  },
  {
   "cell_type": "code",
   "execution_count": 120,
   "metadata": {},
   "outputs": [],
   "source": [
    "#Remove duplicates for the same properties that have different URL.\n",
    "df.drop_duplicates(subset=df.columns.difference(['Url']), inplace=True)"
   ]
  },
  {
   "cell_type": "code",
   "execution_count": 121,
   "metadata": {},
   "outputs": [],
   "source": [
    "df = df.drop(columns=['Url'])"
   ]
  },
  {
   "cell_type": "code",
   "execution_count": 122,
   "metadata": {},
   "outputs": [
    {
     "data": {
      "text/plain": [
       "(10701, 20)"
      ]
     },
     "execution_count": 122,
     "metadata": {},
     "output_type": "execute_result"
    }
   ],
   "source": [
    "df.shape"
   ]
  },
  {
   "cell_type": "markdown",
   "metadata": {},
   "source": [
    "We added a Province column using a function based on the zip (postal) code values."
   ]
  },
  {
   "cell_type": "code",
   "execution_count": 123,
   "metadata": {},
   "outputs": [],
   "source": [
    "def add_province(zip):\n",
    "    first_two_digits = int(str(zip)[:2])\n",
    "    if 10 <= first_two_digits <= 12:\n",
    "        return \"Brussels-Capital Region\"\n",
    "    elif 13 <= first_two_digits <= 14:\n",
    "        return \"Province of Walloon Brabant\"\n",
    "    elif 15 <= first_two_digits <= 19 or 30 <= first_two_digits <= 34:\n",
    "        return \"Province of Flemish Brabant\"\n",
    "    elif 20 <= first_two_digits <= 29:\n",
    "        return \"Province of Antwerp\"\n",
    "    elif 35 <= first_two_digits <= 39:\n",
    "        return \"Province of Limburg\"\n",
    "    elif 40 <= first_two_digits <= 49:\n",
    "        return \"Province of Liège\"\n",
    "    elif 66 <= first_two_digits <= 69:\n",
    "        return \"Province of Luxembourg\"\n",
    "    elif 50 <= first_two_digits <= 56:\n",
    "        return \"Province of Namur\"\n",
    "    elif 60 <= first_two_digits <= 65 or 70 <= first_two_digits <= 79:\n",
    "        return \"Province of Hainaut\"\n",
    "    elif 80 <= first_two_digits <= 89:\n",
    "        return \"Province of West Flanders\"\n",
    "    elif 90 <= first_two_digits <= 99:\n",
    "        return \"Province of East Flanders\"\n",
    "    else:\n",
    "        return \"Unknown\"\n",
    "\n",
    "df['Province'] = df['Zip Code'].apply(add_province)\n",
    "\n",
    "zip_code_index = df.columns.get_loc('Zip Code')  # Get the index of 'Zip Code'\n",
    "df.insert(zip_code_index + 1, 'Province', df.pop('Province'))  # Insert 'Province' at the correct position"
   ]
  },
  {
   "cell_type": "code",
   "execution_count": 124,
   "metadata": {},
   "outputs": [
    {
     "data": {
      "text/plain": [
       "Index(['Locality', 'Zip Code', 'Province', 'Type of Property',\n",
       "       'Subtype of Property', 'Price', 'Number of Rooms', 'Livable Space (m2)',\n",
       "       'Fully Equipped Kitchen', 'Furnished', 'Open Fire', 'Terrace',\n",
       "       'Terrace Area (m2)', 'Garden', 'Garden Area (m2)', 'Swimming Pool',\n",
       "       'Surface of the Land (m2)', 'Number of Facades', 'PEB',\n",
       "       'Primary Energy Consumption (kWh/m2)', 'State of the Building'],\n",
       "      dtype='object')"
      ]
     },
     "execution_count": 124,
     "metadata": {},
     "output_type": "execute_result"
    }
   ],
   "source": [
    "df.columns"
   ]
  },
  {
   "cell_type": "code",
   "execution_count": 125,
   "metadata": {},
   "outputs": [
    {
     "data": {
      "text/plain": [
       "(10701, 21)"
      ]
     },
     "execution_count": 125,
     "metadata": {},
     "output_type": "execute_result"
    }
   ],
   "source": [
    "df.shape"
   ]
  },
  {
   "cell_type": "code",
   "execution_count": 126,
   "metadata": {},
   "outputs": [
    {
     "name": "stdout",
     "output_type": "stream",
     "text": [
      "<class 'pandas.core.frame.DataFrame'>\n",
      "Index: 10701 entries, 0 to 10850\n",
      "Data columns (total 21 columns):\n",
      " #   Column                               Non-Null Count  Dtype  \n",
      "---  ------                               --------------  -----  \n",
      " 0   Locality                             10701 non-null  object \n",
      " 1   Zip Code                             10701 non-null  object \n",
      " 2   Province                             10701 non-null  object \n",
      " 3   Type of Property                     10701 non-null  object \n",
      " 4   Subtype of Property                  10701 non-null  object \n",
      " 5   Price                                10701 non-null  float64\n",
      " 6   Number of Rooms                      10701 non-null  float64\n",
      " 7   Livable Space (m2)                   10701 non-null  int64  \n",
      " 8   Fully Equipped Kitchen               10701 non-null  int64  \n",
      " 9   Furnished                            10701 non-null  int64  \n",
      " 10  Open Fire                            10701 non-null  int64  \n",
      " 11  Terrace                              10701 non-null  int64  \n",
      " 12  Terrace Area (m2)                    10701 non-null  float64\n",
      " 13  Garden                               10701 non-null  int64  \n",
      " 14  Garden Area (m2)                     10701 non-null  float64\n",
      " 15  Swimming Pool                        10701 non-null  int64  \n",
      " 16  Surface of the Land (m2)             10701 non-null  float64\n",
      " 17  Number of Facades                    10701 non-null  float64\n",
      " 18  PEB                                  10701 non-null  object \n",
      " 19  Primary Energy Consumption (kWh/m2)  10701 non-null  float64\n",
      " 20  State of the Building                10701 non-null  object \n",
      "dtypes: float64(7), int64(7), object(7)\n",
      "memory usage: 1.8+ MB\n"
     ]
    }
   ],
   "source": [
    "df['Zip Code'] = str(df['Zip Code'])\n",
    "df.info()"
   ]
  },
  {
   "cell_type": "markdown",
   "metadata": {},
   "source": [
    "So we have:    \n",
    "\n",
    "7 categorical columns ('Locality', 'Zip Code', 'Province', 'Type of Property', 'Subtype of Property', 'PEB', 'State of the Building'),    \n",
    "\n",
    "8 numericals columns ('Price', 'Number of Rooms', 'Livable Space (m2)', 'Terrace Area (m2)', 'Garden Area (m2)', 'Surface of the Land (m2)', 'Number of Facades', 'Primary Energy Consumption (kWh/m2)'), \n",
    "  \n",
    "6 boolean columns ('Fully Equipped Kitchen', 'Furnished', 'Open Fire', 'Terrace', 'Garden', 'Swimming Pool')."
   ]
  },
  {
   "cell_type": "code",
   "execution_count": 127,
   "metadata": {},
   "outputs": [
    {
     "name": "stdout",
     "output_type": "stream",
     "text": [
      "Qualitative variables: 7\n",
      "Quantitative variables: 14\n"
     ]
    }
   ],
   "source": [
    "# Count the number of qualitative and quantitative variables\n",
    "qualitative_vars = df.select_dtypes(include='object').shape[1]\n",
    "quantitative_vars = df.select_dtypes(include=['int64', 'float64']).shape[1]\n",
    "print(f\"Qualitative variables: {qualitative_vars}\")\n",
    "print(f\"Quantitative variables: {quantitative_vars}\")"
   ]
  },
  {
   "cell_type": "code",
   "execution_count": 128,
   "metadata": {},
   "outputs": [
    {
     "data": {
      "text/html": [
       "<div>\n",
       "<style scoped>\n",
       "    .dataframe tbody tr th:only-of-type {\n",
       "        vertical-align: middle;\n",
       "    }\n",
       "\n",
       "    .dataframe tbody tr th {\n",
       "        vertical-align: top;\n",
       "    }\n",
       "\n",
       "    .dataframe thead th {\n",
       "        text-align: right;\n",
       "    }\n",
       "</style>\n",
       "<table border=\"1\" class=\"dataframe\">\n",
       "  <thead>\n",
       "    <tr style=\"text-align: right;\">\n",
       "      <th></th>\n",
       "      <th>Price</th>\n",
       "      <th>Number of Rooms</th>\n",
       "      <th>Livable Space (m2)</th>\n",
       "      <th>Fully Equipped Kitchen</th>\n",
       "      <th>Furnished</th>\n",
       "      <th>Open Fire</th>\n",
       "      <th>Terrace</th>\n",
       "      <th>Terrace Area (m2)</th>\n",
       "      <th>Garden</th>\n",
       "      <th>Garden Area (m2)</th>\n",
       "      <th>Swimming Pool</th>\n",
       "      <th>Surface of the Land (m2)</th>\n",
       "      <th>Number of Facades</th>\n",
       "      <th>Primary Energy Consumption (kWh/m2)</th>\n",
       "    </tr>\n",
       "  </thead>\n",
       "  <tbody>\n",
       "    <tr>\n",
       "      <th>count</th>\n",
       "      <td>1.070100e+04</td>\n",
       "      <td>10701.000000</td>\n",
       "      <td>10701.000000</td>\n",
       "      <td>10701.000000</td>\n",
       "      <td>10701.00000</td>\n",
       "      <td>10701.000000</td>\n",
       "      <td>10701.000000</td>\n",
       "      <td>10701.000000</td>\n",
       "      <td>10701.000000</td>\n",
       "      <td>10701.000000</td>\n",
       "      <td>10701.000000</td>\n",
       "      <td>10701.000000</td>\n",
       "      <td>10701.000000</td>\n",
       "      <td>10701.000000</td>\n",
       "    </tr>\n",
       "    <tr>\n",
       "      <th>mean</th>\n",
       "      <td>7.471396e+05</td>\n",
       "      <td>3.590973</td>\n",
       "      <td>251.505000</td>\n",
       "      <td>0.600037</td>\n",
       "      <td>0.03523</td>\n",
       "      <td>0.090178</td>\n",
       "      <td>0.415475</td>\n",
       "      <td>15.017568</td>\n",
       "      <td>0.305579</td>\n",
       "      <td>329.392206</td>\n",
       "      <td>0.074853</td>\n",
       "      <td>1559.534062</td>\n",
       "      <td>2.295393</td>\n",
       "      <td>317.124661</td>\n",
       "    </tr>\n",
       "    <tr>\n",
       "      <th>std</th>\n",
       "      <td>8.492094e+05</td>\n",
       "      <td>2.175236</td>\n",
       "      <td>225.919926</td>\n",
       "      <td>0.489913</td>\n",
       "      <td>0.18437</td>\n",
       "      <td>0.286451</td>\n",
       "      <td>0.492827</td>\n",
       "      <td>62.273548</td>\n",
       "      <td>0.460674</td>\n",
       "      <td>1908.529461</td>\n",
       "      <td>0.263166</td>\n",
       "      <td>6466.722670</td>\n",
       "      <td>1.475826</td>\n",
       "      <td>1390.105435</td>\n",
       "    </tr>\n",
       "    <tr>\n",
       "      <th>min</th>\n",
       "      <td>2.750000e+04</td>\n",
       "      <td>0.000000</td>\n",
       "      <td>13.000000</td>\n",
       "      <td>0.000000</td>\n",
       "      <td>0.00000</td>\n",
       "      <td>0.000000</td>\n",
       "      <td>0.000000</td>\n",
       "      <td>0.000000</td>\n",
       "      <td>0.000000</td>\n",
       "      <td>0.000000</td>\n",
       "      <td>0.000000</td>\n",
       "      <td>0.000000</td>\n",
       "      <td>0.000000</td>\n",
       "      <td>1.000000</td>\n",
       "    </tr>\n",
       "    <tr>\n",
       "      <th>25%</th>\n",
       "      <td>2.790000e+05</td>\n",
       "      <td>2.000000</td>\n",
       "      <td>111.000000</td>\n",
       "      <td>0.000000</td>\n",
       "      <td>0.00000</td>\n",
       "      <td>0.000000</td>\n",
       "      <td>0.000000</td>\n",
       "      <td>0.000000</td>\n",
       "      <td>0.000000</td>\n",
       "      <td>0.000000</td>\n",
       "      <td>0.000000</td>\n",
       "      <td>0.000000</td>\n",
       "      <td>2.000000</td>\n",
       "      <td>167.000000</td>\n",
       "    </tr>\n",
       "    <tr>\n",
       "      <th>50%</th>\n",
       "      <td>5.250000e+05</td>\n",
       "      <td>3.000000</td>\n",
       "      <td>200.000000</td>\n",
       "      <td>1.000000</td>\n",
       "      <td>0.00000</td>\n",
       "      <td>0.000000</td>\n",
       "      <td>0.000000</td>\n",
       "      <td>0.000000</td>\n",
       "      <td>0.000000</td>\n",
       "      <td>0.000000</td>\n",
       "      <td>0.000000</td>\n",
       "      <td>240.000000</td>\n",
       "      <td>2.000000</td>\n",
       "      <td>257.000000</td>\n",
       "    </tr>\n",
       "    <tr>\n",
       "      <th>75%</th>\n",
       "      <td>8.500000e+05</td>\n",
       "      <td>4.000000</td>\n",
       "      <td>315.000000</td>\n",
       "      <td>1.000000</td>\n",
       "      <td>0.00000</td>\n",
       "      <td>0.000000</td>\n",
       "      <td>1.000000</td>\n",
       "      <td>15.000000</td>\n",
       "      <td>1.000000</td>\n",
       "      <td>60.000000</td>\n",
       "      <td>0.000000</td>\n",
       "      <td>1000.000000</td>\n",
       "      <td>4.000000</td>\n",
       "      <td>334.000000</td>\n",
       "    </tr>\n",
       "    <tr>\n",
       "      <th>max</th>\n",
       "      <td>1.050000e+07</td>\n",
       "      <td>40.000000</td>\n",
       "      <td>5596.000000</td>\n",
       "      <td>1.000000</td>\n",
       "      <td>1.00000</td>\n",
       "      <td>1.000000</td>\n",
       "      <td>1.000000</td>\n",
       "      <td>3749.000000</td>\n",
       "      <td>1.000000</td>\n",
       "      <td>95000.000000</td>\n",
       "      <td>1.000000</td>\n",
       "      <td>160737.000000</td>\n",
       "      <td>9.000000</td>\n",
       "      <td>100000.000000</td>\n",
       "    </tr>\n",
       "  </tbody>\n",
       "</table>\n",
       "</div>"
      ],
      "text/plain": [
       "              Price  Number of Rooms  Livable Space (m2)  \\\n",
       "count  1.070100e+04     10701.000000        10701.000000   \n",
       "mean   7.471396e+05         3.590973          251.505000   \n",
       "std    8.492094e+05         2.175236          225.919926   \n",
       "min    2.750000e+04         0.000000           13.000000   \n",
       "25%    2.790000e+05         2.000000          111.000000   \n",
       "50%    5.250000e+05         3.000000          200.000000   \n",
       "75%    8.500000e+05         4.000000          315.000000   \n",
       "max    1.050000e+07        40.000000         5596.000000   \n",
       "\n",
       "       Fully Equipped Kitchen    Furnished     Open Fire       Terrace  \\\n",
       "count            10701.000000  10701.00000  10701.000000  10701.000000   \n",
       "mean                 0.600037      0.03523      0.090178      0.415475   \n",
       "std                  0.489913      0.18437      0.286451      0.492827   \n",
       "min                  0.000000      0.00000      0.000000      0.000000   \n",
       "25%                  0.000000      0.00000      0.000000      0.000000   \n",
       "50%                  1.000000      0.00000      0.000000      0.000000   \n",
       "75%                  1.000000      0.00000      0.000000      1.000000   \n",
       "max                  1.000000      1.00000      1.000000      1.000000   \n",
       "\n",
       "       Terrace Area (m2)        Garden  Garden Area (m2)  Swimming Pool  \\\n",
       "count       10701.000000  10701.000000      10701.000000   10701.000000   \n",
       "mean           15.017568      0.305579        329.392206       0.074853   \n",
       "std            62.273548      0.460674       1908.529461       0.263166   \n",
       "min             0.000000      0.000000          0.000000       0.000000   \n",
       "25%             0.000000      0.000000          0.000000       0.000000   \n",
       "50%             0.000000      0.000000          0.000000       0.000000   \n",
       "75%            15.000000      1.000000         60.000000       0.000000   \n",
       "max          3749.000000      1.000000      95000.000000       1.000000   \n",
       "\n",
       "       Surface of the Land (m2)  Number of Facades  \\\n",
       "count              10701.000000       10701.000000   \n",
       "mean                1559.534062           2.295393   \n",
       "std                 6466.722670           1.475826   \n",
       "min                    0.000000           0.000000   \n",
       "25%                    0.000000           2.000000   \n",
       "50%                  240.000000           2.000000   \n",
       "75%                 1000.000000           4.000000   \n",
       "max               160737.000000           9.000000   \n",
       "\n",
       "       Primary Energy Consumption (kWh/m2)  \n",
       "count                         10701.000000  \n",
       "mean                            317.124661  \n",
       "std                            1390.105435  \n",
       "min                               1.000000  \n",
       "25%                             167.000000  \n",
       "50%                             257.000000  \n",
       "75%                             334.000000  \n",
       "max                          100000.000000  "
      ]
     },
     "execution_count": 128,
     "metadata": {},
     "output_type": "execute_result"
    }
   ],
   "source": [
    "df.describe()"
   ]
  },
  {
   "cell_type": "code",
   "execution_count": 129,
   "metadata": {},
   "outputs": [
    {
     "name": "stdout",
     "output_type": "stream",
     "text": [
      "         Locality                                           Zip Code  \\\n",
      "count       10701                                              10701   \n",
      "unique       1376                                                  1   \n",
      "top     Antwerpen  0        9000\\n1        1180\\n2        1040\\n3...   \n",
      "freq          429                                              10701   \n",
      "mean          NaN                                                NaN   \n",
      "std           NaN                                                NaN   \n",
      "min           NaN                                                NaN   \n",
      "25%           NaN                                                NaN   \n",
      "50%           NaN                                                NaN   \n",
      "75%           NaN                                                NaN   \n",
      "max           NaN                                                NaN   \n",
      "\n",
      "                       Province Type of Property Subtype of Property  \\\n",
      "count                     10701            10701               10701   \n",
      "unique                       11                2                  23   \n",
      "top     Brussels-Capital Region            House               house   \n",
      "freq                       1952             7398                4347   \n",
      "mean                        NaN              NaN                 NaN   \n",
      "std                         NaN              NaN                 NaN   \n",
      "min                         NaN              NaN                 NaN   \n",
      "25%                         NaN              NaN                 NaN   \n",
      "50%                         NaN              NaN                 NaN   \n",
      "75%                         NaN              NaN                 NaN   \n",
      "max                         NaN              NaN                 NaN   \n",
      "\n",
      "               Price  Number of Rooms  Livable Space (m2)  \\\n",
      "count   1.070100e+04     10701.000000        10701.000000   \n",
      "unique           NaN              NaN                 NaN   \n",
      "top              NaN              NaN                 NaN   \n",
      "freq             NaN              NaN                 NaN   \n",
      "mean    7.471396e+05         3.590973          251.505000   \n",
      "std     8.492094e+05         2.175236          225.919926   \n",
      "min     2.750000e+04         0.000000           13.000000   \n",
      "25%     2.790000e+05         2.000000          111.000000   \n",
      "50%     5.250000e+05         3.000000          200.000000   \n",
      "75%     8.500000e+05         4.000000          315.000000   \n",
      "max     1.050000e+07        40.000000         5596.000000   \n",
      "\n",
      "        Fully Equipped Kitchen    Furnished  ...       Terrace  \\\n",
      "count             10701.000000  10701.00000  ...  10701.000000   \n",
      "unique                     NaN          NaN  ...           NaN   \n",
      "top                        NaN          NaN  ...           NaN   \n",
      "freq                       NaN          NaN  ...           NaN   \n",
      "mean                  0.600037      0.03523  ...      0.415475   \n",
      "std                   0.489913      0.18437  ...      0.492827   \n",
      "min                   0.000000      0.00000  ...      0.000000   \n",
      "25%                   0.000000      0.00000  ...      0.000000   \n",
      "50%                   1.000000      0.00000  ...      0.000000   \n",
      "75%                   1.000000      0.00000  ...      1.000000   \n",
      "max                   1.000000      1.00000  ...      1.000000   \n",
      "\n",
      "        Terrace Area (m2)        Garden  Garden Area (m2)  Swimming Pool  \\\n",
      "count        10701.000000  10701.000000      10701.000000   10701.000000   \n",
      "unique                NaN           NaN               NaN            NaN   \n",
      "top                   NaN           NaN               NaN            NaN   \n",
      "freq                  NaN           NaN               NaN            NaN   \n",
      "mean            15.017568      0.305579        329.392206       0.074853   \n",
      "std             62.273548      0.460674       1908.529461       0.263166   \n",
      "min              0.000000      0.000000          0.000000       0.000000   \n",
      "25%              0.000000      0.000000          0.000000       0.000000   \n",
      "50%              0.000000      0.000000          0.000000       0.000000   \n",
      "75%             15.000000      1.000000         60.000000       0.000000   \n",
      "max           3749.000000      1.000000      95000.000000       1.000000   \n",
      "\n",
      "        Surface of the Land (m2)  Number of Facades    PEB  \\\n",
      "count               10701.000000       10701.000000  10701   \n",
      "unique                       NaN                NaN      8   \n",
      "top                          NaN                NaN      B   \n",
      "freq                         NaN                NaN   2424   \n",
      "mean                 1559.534062           2.295393    NaN   \n",
      "std                  6466.722670           1.475826    NaN   \n",
      "min                     0.000000           0.000000    NaN   \n",
      "25%                     0.000000           2.000000    NaN   \n",
      "50%                   240.000000           2.000000    NaN   \n",
      "75%                  1000.000000           4.000000    NaN   \n",
      "max                160737.000000           9.000000    NaN   \n",
      "\n",
      "       Primary Energy Consumption (kWh/m2)  State of the Building  \n",
      "count                         10701.000000                  10701  \n",
      "unique                                 NaN                      7  \n",
      "top                                    NaN                   Good  \n",
      "freq                                   NaN                   4302  \n",
      "mean                            317.124661                    NaN  \n",
      "std                            1390.105435                    NaN  \n",
      "min                               1.000000                    NaN  \n",
      "25%                             167.000000                    NaN  \n",
      "50%                             257.000000                    NaN  \n",
      "75%                             334.000000                    NaN  \n",
      "max                          100000.000000                    NaN  \n",
      "\n",
      "[11 rows x 21 columns]\n"
     ]
    }
   ],
   "source": [
    "df_statistics = df.describe(include = 'all')\n",
    "print(df_statistics)"
   ]
  },
  {
   "cell_type": "markdown",
   "metadata": {},
   "source": [
    "We should transform some categorical values as \"Province\", \"Property Type\", \"PEB\", \"Building Condition\" into quantitive values."
   ]
  },
  {
   "cell_type": "code",
   "execution_count": 130,
   "metadata": {},
   "outputs": [
    {
     "name": "stderr",
     "output_type": "stream",
     "text": [
      "C:\\Users\\olyas\\AppData\\Local\\Temp\\ipykernel_26340\\1136489473.py:11: FutureWarning: Downcasting behavior in `replace` is deprecated and will be removed in a future version. To retain the old behavior, explicitly call `result.infer_objects(copy=False)`. To opt-in to the future behavior, set `pd.set_option('future.no_silent_downcasting', True)`\n",
      "  df['State of the Building_Numeric'] = df['State of the Building'].replace(state_mapping)\n"
     ]
    }
   ],
   "source": [
    "state_mapping = {\n",
    "    'To restore': 1,\n",
    "    'To renovate': 2,\n",
    "    'To be done up': 3,\n",
    "    'Good': 4,\n",
    "    'Just renovated': 5,\n",
    "    'As new': 6,\n",
    "    'Not specified' : 7 # For 'Not specified' a new group\n",
    "}\n",
    "\n",
    "df['State of the Building_Numeric'] = df['State of the Building'].replace(state_mapping)"
   ]
  },
  {
   "cell_type": "code",
   "execution_count": 131,
   "metadata": {},
   "outputs": [
    {
     "name": "stderr",
     "output_type": "stream",
     "text": [
      "C:\\Users\\olyas\\AppData\\Local\\Temp\\ipykernel_26340\\1526814067.py:12: FutureWarning: Downcasting behavior in `replace` is deprecated and will be removed in a future version. To retain the old behavior, explicitly call `result.infer_objects(copy=False)`. To opt-in to the future behavior, set `pd.set_option('future.no_silent_downcasting', True)`\n",
      "  df['PEB_Numeric'] = df['PEB'].replace(PEB_mapping)\n"
     ]
    }
   ],
   "source": [
    "PEB_mapping = {\n",
    "    'Not specified' : 8,\n",
    "    'G': 7,\n",
    "    'F': 6,\n",
    "    'E': 5,\n",
    "    'D': 4,\n",
    "    'C': 3,\n",
    "    'B': 2,\n",
    "    'A': 1\n",
    "}\n",
    "\n",
    "df['PEB_Numeric'] = df['PEB'].replace(PEB_mapping)"
   ]
  },
  {
   "cell_type": "code",
   "execution_count": 132,
   "metadata": {},
   "outputs": [
    {
     "data": {
      "text/plain": [
       "Province\n",
       "Brussels-Capital Region        1952\n",
       "Province of Antwerp            1762\n",
       "Province of East Flanders      1719\n",
       "Province of West Flanders      1645\n",
       "Province of Flemish Brabant    1093\n",
       "Province of Liège               865\n",
       "Province of Walloon Brabant     589\n",
       "Province of Luxembourg          331\n",
       "Province of Hainaut             325\n",
       "Province of Namur               244\n",
       "Province of Limburg             176\n",
       "Name: count, dtype: int64"
      ]
     },
     "execution_count": 132,
     "metadata": {},
     "output_type": "execute_result"
    }
   ],
   "source": [
    "df['Province'].value_counts()"
   ]
  },
  {
   "cell_type": "code",
   "execution_count": 133,
   "metadata": {},
   "outputs": [
    {
     "name": "stderr",
     "output_type": "stream",
     "text": [
      "C:\\Users\\olyas\\AppData\\Local\\Temp\\ipykernel_26340\\3720752789.py:15: FutureWarning: Downcasting behavior in `replace` is deprecated and will be removed in a future version. To retain the old behavior, explicitly call `result.infer_objects(copy=False)`. To opt-in to the future behavior, set `pd.set_option('future.no_silent_downcasting', True)`\n",
      "  df['Province_Numeric'] = df['Province'].replace(province_mapping)\n"
     ]
    }
   ],
   "source": [
    "province_mapping = {\n",
    "    'Brussels-Capital Region': 1,\n",
    "    'Province of Antwerp': 2,\n",
    "    'Province of East Flanders': 3,\n",
    "    'Province of West Flanders': 4,\n",
    "    'Province of Flemish Brabant': 5,\n",
    "    'Province of Liège': 6,\n",
    "    'Province of Walloon Brabant': 7,\n",
    "    'Province of Luxembourg': 8,\n",
    "    'Province of Hainaut': 9,\n",
    "    'Province of Namur': 10,\n",
    "    'Province of Limburg': 11,\n",
    "}\n",
    "\n",
    "df['Province_Numeric'] = df['Province'].replace(province_mapping)"
   ]
  },
  {
   "cell_type": "code",
   "execution_count": 134,
   "metadata": {},
   "outputs": [
    {
     "name": "stderr",
     "output_type": "stream",
     "text": [
      "C:\\Users\\olyas\\AppData\\Local\\Temp\\ipykernel_26340\\4110281198.py:1: FutureWarning: Downcasting behavior in `replace` is deprecated and will be removed in a future version. To retain the old behavior, explicitly call `result.infer_objects(copy=False)`. To opt-in to the future behavior, set `pd.set_option('future.no_silent_downcasting', True)`\n",
      "  df['Type of Property_Numeric'] = df['Type of Property'].replace({'House': 1, 'Apartment': 0}).infer_objects(copy=False)\n"
     ]
    }
   ],
   "source": [
    "df['Type of Property_Numeric'] = df['Type of Property'].replace({'House': 1, 'Apartment': 0}).infer_objects(copy=False)"
   ]
  },
  {
   "cell_type": "code",
   "execution_count": 135,
   "metadata": {},
   "outputs": [
    {
     "data": {
      "text/plain": [
       "Subtype of Property_Grouped\n",
       "Houses                    4622\n",
       "Apartments                3254\n",
       "Luxury Properties         2016\n",
       "Specialized Properties     809\n",
       "Name: count, dtype: int64"
      ]
     },
     "execution_count": 135,
     "metadata": {},
     "output_type": "execute_result"
    }
   ],
   "source": [
    "df['Subtype of Property'].value_counts()\n",
    "\n",
    "subtype_group_mapping = {\n",
    "    'house': 'Houses',\n",
    "    'villa': 'Luxury Properties',\n",
    "    'town-house': 'Houses',\n",
    "    'bungalow': 'Houses',\n",
    "    'farmhouse': 'Houses',\n",
    "    'country-cottage': 'Houses',\n",
    "    'chalet': 'Luxury Properties',\n",
    "    'apartment': 'Apartments',\n",
    "    'apartment-block': 'Specialized Properties',\n",
    "    'duplex': 'Apartments',\n",
    "    'penthouse': 'Apartments',\n",
    "    'ground-floor': 'Apartments',\n",
    "    'flat-studio': 'Apartments',\n",
    "    'triplex': 'Apartments',\n",
    "    'service-flat': 'Apartments',\n",
    "    'mansion': 'Luxury Properties',\n",
    "    'exceptional-property': 'Luxury Properties',\n",
    "    'castle': 'Luxury Properties',\n",
    "    'manor-house': 'Luxury Properties',\n",
    "    'mixed-use-building': 'Specialized Properties',\n",
    "    'loft': 'Specialized Properties',\n",
    "    'kot': 'Apartments',\n",
    "    'other-property': 'Specialized Properties'\n",
    "}\n",
    "\n",
    "df['Subtype of Property_Grouped'] = df['Subtype of Property'].map(subtype_group_mapping)\n",
    "\n",
    "df['Subtype of Property_Grouped'].value_counts()"
   ]
  },
  {
   "cell_type": "code",
   "execution_count": 136,
   "metadata": {},
   "outputs": [
    {
     "name": "stderr",
     "output_type": "stream",
     "text": [
      "C:\\Users\\olyas\\AppData\\Local\\Temp\\ipykernel_26340\\4083140909.py:8: FutureWarning: Downcasting behavior in `replace` is deprecated and will be removed in a future version. To retain the old behavior, explicitly call `result.infer_objects(copy=False)`. To opt-in to the future behavior, set `pd.set_option('future.no_silent_downcasting', True)`\n",
      "  df['Subtype of Property_Grouped_Numeric'] = df['Subtype of Property_Grouped'].replace(subtype_mapping)\n"
     ]
    }
   ],
   "source": [
    "subtype_mapping = {\n",
    "    'Apartments' : 1,\n",
    "    'Houses' : 2,\n",
    "    'Specialized Properties' : 3,\n",
    "    'Luxury Properties' : 4\n",
    "}\n",
    "\n",
    "df['Subtype of Property_Grouped_Numeric'] = df['Subtype of Property_Grouped'].replace(subtype_mapping)"
   ]
  },
  {
   "cell_type": "code",
   "execution_count": 138,
   "metadata": {},
   "outputs": [],
   "source": [
    "df.to_csv('csv-data\\\\cleaned_dataset_analysis.csv', index=False)"
   ]
  }
 ],
 "metadata": {
  "kernelspec": {
   "display_name": "Python 3",
   "language": "python",
   "name": "python3"
  },
  "language_info": {
   "codemirror_mode": {
    "name": "ipython",
    "version": 3
   },
   "file_extension": ".py",
   "mimetype": "text/x-python",
   "name": "python",
   "nbconvert_exporter": "python",
   "pygments_lexer": "ipython3",
   "version": "3.12.7"
  }
 },
 "nbformat": 4,
 "nbformat_minor": 2
}
